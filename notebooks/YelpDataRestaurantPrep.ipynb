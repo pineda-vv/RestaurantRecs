{
 "cells": [
  {
   "cell_type": "code",
   "execution_count": 1,
   "metadata": {
    "collapsed": true
   },
   "outputs": [],
   "source": [
    "import pandas as pd\n",
    "import numpy as np\n",
    "from pyspark.sql.functions import array_contains"
   ]
  },
  {
   "cell_type": "code",
   "execution_count": 2,
   "metadata": {},
   "outputs": [],
   "source": [
    "business_df = spark.read.json(\n",
    "    '../data/yelp_dataset_challenge_round9/yelp_academic_dataset_business.json'\n",
    ")"
   ]
  },
  {
   "cell_type": "code",
   "execution_count": 3,
   "metadata": {},
   "outputs": [
    {
     "name": "stdout",
     "output_type": "stream",
     "text": [
      "root\n",
      " |-- address: string (nullable = true)\n",
      " |-- attributes: array (nullable = true)\n",
      " |    |-- element: string (containsNull = true)\n",
      " |-- business_id: string (nullable = true)\n",
      " |-- categories: array (nullable = true)\n",
      " |    |-- element: string (containsNull = true)\n",
      " |-- city: string (nullable = true)\n",
      " |-- hours: array (nullable = true)\n",
      " |    |-- element: string (containsNull = true)\n",
      " |-- is_open: long (nullable = true)\n",
      " |-- latitude: double (nullable = true)\n",
      " |-- longitude: double (nullable = true)\n",
      " |-- name: string (nullable = true)\n",
      " |-- neighborhood: string (nullable = true)\n",
      " |-- postal_code: string (nullable = true)\n",
      " |-- review_count: long (nullable = true)\n",
      " |-- stars: double (nullable = true)\n",
      " |-- state: string (nullable = true)\n",
      " |-- type: string (nullable = true)\n",
      "\n"
     ]
    }
   ],
   "source": [
    "business_df.printSchema()"
   ]
  },
  {
   "cell_type": "code",
   "execution_count": 4,
   "metadata": {
    "collapsed": true
   },
   "outputs": [],
   "source": [
    "restaurant_df = (\n",
    "    business_df\n",
    "    .filter(array_contains('categories', 'Restaurants'))\n",
    "    .persist()\n",
    ")"
   ]
  },
  {
   "cell_type": "code",
   "execution_count": null,
   "metadata": {
    "collapsed": true
   },
   "outputs": [],
   "source": [
    "# Number of restaurants\n",
    "# restaurant_df.count()\n",
    "# 48485"
   ]
  },
  {
   "cell_type": "code",
   "execution_count": null,
   "metadata": {
    "collapsed": true
   },
   "outputs": [],
   "source": [
    "# (\n",
    "#     restaurant_df\n",
    "#     .groupby('state', 'city')\n",
    "#     .count()\n",
    "#     .orderBy('state', 'city')\n",
    "#     .collect()\n",
    "# )"
   ]
  },
  {
   "cell_type": "code",
   "execution_count": 5,
   "metadata": {
    "collapsed": true
   },
   "outputs": [],
   "source": [
    "#############\n",
    "# Fix typos #\n",
    "#############\n",
    "fix_typos_city = {\n",
    "    'Central City Village' : 'Central City',\n",
    "    'Gelndale' : 'Glendale',\n",
    "    'Glenndale' : 'Glendale',\n",
    "    'Laveen Village' : 'Laveen',\n",
    "    'MESA' : 'Mesa',\n",
    "    'Mesa AZ' : 'Mesa',\n",
    "    'Pheonix' : 'Phoenix',\n",
    "    'Pheonix AZ' : 'Phoenix',\n",
    "    'Scottdale' : 'Scottsdale',\n",
    "    'Stuttgart-Vaihingen' : 'Stuttgart',\n",
    "    'City of Edinburgh' : 'Edinburgh',\n",
    "    'Edimbourg' : 'Edinburgh',\n",
    "    'Concord Mills' : 'Concord',\n",
    "    'Harrisbug' : 'Harrisburg',\n",
    "    'Mattews' : 'Matthews',\n",
    "    'Mint  Hill' : 'Mint Hill',\n",
    "    'Las  Vegas' : 'Las Vegas',\n",
    "    'LasVegas' : 'Las Vegas',\n",
    "    'N Las Vegas' : 'North Las Vegas',\n",
    "    'N. Las Vegas' : 'North Las Vegas',\n",
    "    'Nellis AFB' : 'Nellis Air Force Base',\n",
    "    'Nellis Afb' : 'Nellis Air Force Base',\n",
    "    'las vegas' : 'Las Vegas',\n",
    "    'Bainbridge Township' : 'Chagrin Falls',\n",
    "    'Bedford Hts.' : 'Bedford Heights',\n",
    "    'Brookpark' : 'Brook Park',\n",
    "    'Concord Twp' : 'Mentor',\n",
    "    'Cuyahoga Fls' : 'Cuyahoga Falls',\n",
    "    'Medina Township' : 'Medina',\n",
    "    'Mentor On the' : 'Mentor-on-the-Lake',\n",
    "    'Mentor On the Lake' : 'Mentor-on-the-Lake',\n",
    "    'N. Olmsted' : 'North Olmsted',\n",
    "    'North Olmstead' : 'North Olmsted',\n",
    "    'WICKLIFFE' : 'Wickliffe',\n",
    "    'Warrensvile Heights' : 'Warrensville Heights',\n",
    "    'Warrensville Hts.' : 'Warrensville Heights',\n",
    "    'columbia station' : 'Columbia Station',\n",
    "    'AGINCOURT' : 'Agincourt',\n",
    "    'E Gwillimbury' : 'East Gwillimbury',\n",
    "    'Missisauga' : 'Mississauga',\n",
    "    'Mississuaga' : 'Mississauga',\n",
    "    'NORTH YORK' : 'North York',\n",
    "    'Richmond Hil' : 'Richmond Hill',\n",
    "    'Scaroborough' : 'Scarborough',\n",
    "    'Scarobrough' : 'Scarborough',\n",
    "    'TORONTO' : 'Toronto',\n",
    "    'Thornhil' : 'Thornhill',\n",
    "    'Vaughn' : 'Vaughan',\n",
    "    'Bellvue' : 'Bellevue',\n",
    "    'East Mc Keesport' : 'East McKeesport',\n",
    "    'Elizabeth Township' : 'Elizabeth',\n",
    "    'Mc Donald' : 'McDonald',\n",
    "    'Mc Murray' : 'McMurray',\n",
    "    'Moon Township' : 'Moon',\n",
    "    'Moon Twp' : 'Moon',\n",
    "    'Moon Twp.' : 'Moon',\n",
    "    'Mt. Lebanon' : 'Mount Lebanon',\n",
    "    'Robinson Township' : 'Robinson',\n",
    "    'Robinson Twp.' : 'Robinson',\n",
    "    'South Park Township' : 'South Park',\n",
    "    'Stowe Township' : 'Stowe',\n",
    "    'Upper St Clair' : 'Upper Saint Clair',\n",
    "    'Upper St. Clair' : 'Upper Saint Clair',\n",
    "    'Chatauguay' : 'Châteauguay',\n",
    "    'Chateauguay' : 'Châteauguay',\n",
    "    'Cote Saint-Luc' : 'Côte-Saint-Luc',\n",
    "    'Cote-Saint-Luc' : 'Côte-Saint-Luc',\n",
    "    'Dollard-Des Ormeaux' : 'Dollard-Des-Ormeaux',\n",
    "    'Dollard-des-Ormeaux' : 'Dollard-Des-Ormeaux',\n",
    "    \"L'assomption\" : \"L'Assomption\",\n",
    "    \"L'ile-Perrot\" : \"L'Île-Perrot\",\n",
    "    \"L'Île-Perrôt\" : \"L'Île-Perrot\",\n",
    "    'La Salle' : 'LaSalle',\n",
    "    'Montreal' : 'Montréal',\n",
    "    'Montreal-Nord' : 'Montréal-Nord',\n",
    "    'Montreal-Ouest' : 'Montréal-Ouest',\n",
    "    'Montreal-West' : 'Montréal-Ouest',\n",
    "    'Montéal' : 'Montréal',\n",
    "    'Saint Laurent' : 'Saint-Laurent',\n",
    "    'Saint Leonard' : 'Saint-Léonard',\n",
    "    'Saint-Bruno' : 'Saint-Bruno-de-Montarville',\n",
    "    'Saint-Jean-Sur-Richelieu' : 'Saint-Jean-sur-Richelieu',  \n",
    "    'Saint-Jerome' : 'Saint-Jérôme',\n",
    "    'Saint-Leonard' : 'Saint-Léonard',\n",
    "    'Saint-Marc-Sur-Richelieu' : 'Saint-Marc-sur-Richelieu',\n",
    "    'Saint-Sauveur-des-Monts' : 'Saint-Sauveur',\n",
    "    'Sainte-Adele' : 'Sainte-Adèle',\n",
    "    'Sainte-Anne-De-Bellevue' : 'Sainte-Anne-de-Bellevue',\n",
    "    'Sainte-Therese' : 'Sainte-Thérèse',\n",
    "    'Sainte-Therese-de-Blainville' : 'Sainte-Thérèse',\n",
    "    'Sainte-thérèse' : 'Sainte-Thérèse',\n",
    "    'Salaberry-De-Valleyfield' : 'Salaberry-de-Valleyfield',\n",
    "    'St Leonard' : 'Saint-Léonard',\n",
    "    'St-Benoît de Mirabel' : 'Mirabel',\n",
    "    'St-Jerome' : 'Saint-Jérôme',\n",
    "    'St-Laurent' : 'Saint-Laurent',\n",
    "    'St-Leonard' : 'Saint-Léonard',\n",
    "    'Ste-Therese-de-Blainville' : 'Sainte-Thérèse',\n",
    "    'Fort  Mill' : 'Fort Mill',\n",
    "    'Ft. Mill' : 'Fort Mill',\n",
    "    'De Forest' : 'DeForest',\n",
    "    'Mc Farland' : 'McFarland',\n",
    "}\n",
    "restaurant_df2 = restaurant_df.na.replace(fix_typos_city, 'city')\n",
    "\n",
    "fix_typos_state = {\n",
    "    'KHL' : 'MLN',\n",
    "    'PKN' : 'EDH'\n",
    "}\n",
    "restaurant_df3 = restaurant_df2.na.replace(fix_typos_state, 'state')"
   ]
  },
  {
   "cell_type": "code",
   "execution_count": null,
   "metadata": {
    "collapsed": true
   },
   "outputs": [],
   "source": [
    "# (\n",
    "#     restaurant_df3\n",
    "#     .groupby('state', 'city')\n",
    "#     .count()\n",
    "#     .orderBy('state', 'city')\n",
    "#     .collect()\n",
    "# )"
   ]
  },
  {
   "cell_type": "code",
   "execution_count": 6,
   "metadata": {
    "collapsed": true
   },
   "outputs": [],
   "source": [
    "restaurant_df3.write.parquet(\n",
    "    path='../data/restaurants',\n",
    "    mode='overwrite',\n",
    "    compression='gzip'\n",
    ")"
   ]
  },
  {
   "cell_type": "code",
   "execution_count": null,
   "metadata": {
    "collapsed": true
   },
   "outputs": [],
   "source": []
  }
 ],
 "metadata": {
  "kernelspec": {
   "display_name": "Python [conda env:py36]",
   "language": "python",
   "name": "conda-env-py36-py"
  },
  "language_info": {
   "codemirror_mode": {
    "name": "ipython",
    "version": 3
   },
   "file_extension": ".py",
   "mimetype": "text/x-python",
   "name": "python",
   "nbconvert_exporter": "python",
   "pygments_lexer": "ipython3",
   "version": "3.6.1"
  }
 },
 "nbformat": 4,
 "nbformat_minor": 2
}
