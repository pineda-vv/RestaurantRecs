{
 "cells": [
  {
   "cell_type": "code",
   "execution_count": 3,
   "metadata": {
    "collapsed": false
   },
   "outputs": [],
   "source": [
    "from eval_model import NDCGEvaluator, NDCG10Evaluator\n",
    "import numpy as np"
   ]
  },
  {
   "cell_type": "code",
   "execution_count": 56,
   "metadata": {
    "collapsed": false
   },
   "outputs": [
    {
     "name": "stdout",
     "output_type": "stream",
     "text": [
      "root\n",
      " |-- user: long (nullable = true)\n",
      " |-- rating: long (nullable = true)\n",
      " |-- prediction: long (nullable = true)\n",
      "\n",
      "+----+------+----------+\n",
      "|user|rating|prediction|\n",
      "+----+------+----------+\n",
      "|   0|     1|         1|\n",
      "|   0|     4|         3|\n",
      "|   0|     3|         1|\n",
      "|   0|     4|         3|\n",
      "|   0|     5|         5|\n",
      "|   0|     4|         2|\n",
      "|   0|     1|         4|\n",
      "|   0|     5|         5|\n",
      "|   0|     2|         5|\n",
      "|   0|     4|         4|\n",
      "|   0|     1|         2|\n",
      "|   0|     1|         4|\n",
      "|   0|     5|         4|\n",
      "|   0|     3|         2|\n",
      "|   0|     1|         1|\n",
      "|   0|     2|         1|\n",
      "|   0|     1|         1|\n",
      "|   0|     3|         5|\n",
      "|   0|     1|         1|\n",
      "|   0|     1|         4|\n",
      "+----+------+----------+\n",
      "only showing top 20 rows\n",
      "\n"
     ]
    }
   ],
   "source": [
    "all_rows1 = []\n",
    "for i in range(1000):\n",
    "    user = (i * np.ones(50, dtype=np.int)).tolist()\n",
    "    rating = np.random.randint(1, 6, 50).tolist()\n",
    "    prediction = np.random.randint(1, 6, 50).tolist()\n",
    "    all_rows1 = all_rows1 + list(zip(user, rating, prediction))\n",
    "# print(all_rows1)\n",
    "# print(type(all_rows1[0][2]))\n",
    "\n",
    "rand_df1 = spark.createDataFrame(all_rows1, ['user', 'rating', 'prediction'])\n",
    "rand_df1.printSchema()\n",
    "rand_df1.show()"
   ]
  },
  {
   "cell_type": "code",
   "execution_count": 57,
   "metadata": {
    "collapsed": false
   },
   "outputs": [
    {
     "data": {
      "text/plain": [
       "0.6033739317615976"
      ]
     },
     "execution_count": 57,
     "metadata": {},
     "output_type": "execute_result"
    }
   ],
   "source": [
    "evaluator = NDCG10Evaluator()\n",
    "1 - evaluator.evaluate(rand_df1)"
   ]
  },
  {
   "cell_type": "code",
   "execution_count": null,
   "metadata": {
    "collapsed": true
   },
   "outputs": [],
   "source": []
  }
 ],
 "metadata": {
  "kernelspec": {
   "display_name": "Python 3",
   "language": "python",
   "name": "python3"
  },
  "language_info": {
   "codemirror_mode": {
    "name": "ipython",
    "version": 3
   },
   "file_extension": ".py",
   "mimetype": "text/x-python",
   "name": "python",
   "nbconvert_exporter": "python",
   "pygments_lexer": "ipython3",
   "version": "3.6.1"
  }
 },
 "nbformat": 4,
 "nbformat_minor": 2
}
