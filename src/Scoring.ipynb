{
 "cells": [
  {
   "cell_type": "code",
   "execution_count": 1,
   "metadata": {
    "collapsed": true
   },
   "outputs": [],
   "source": [
    "from resto_reco import RestaurantRecommender"
   ]
  },
  {
   "cell_type": "code",
   "execution_count": 2,
   "metadata": {
    "collapsed": false
   },
   "outputs": [
    {
     "name": "stdout",
     "output_type": "stream",
     "text": [
      "root\n",
      " |-- business_id: integer (nullable = true)\n",
      " |-- user_id: integer (nullable = true)\n",
      " |-- stars: byte (nullable = true)\n",
      "\n",
      "None\n"
     ]
    }
   ],
   "source": [
    "# Load restaurant reviews\n",
    "reviews_df = spark.read.parquet('../data/reviews')\n",
    "\n",
    "# Randomly split data into train and test datasets\n",
    "train_df, test_df = reviews_df.randomSplit(weights=[0.75, 0.25])\n",
    "\n",
    "print(train_df.printSchema())"
   ]
  },
  {
   "cell_type": "code",
   "execution_count": 3,
   "metadata": {
    "collapsed": false
   },
   "outputs": [
    {
     "name": "stdout",
     "output_type": "stream",
     "text": [
      "root\n",
      " |-- business_id: integer (nullable = true)\n",
      " |-- user_id: integer (nullable = true)\n",
      " |-- stars: byte (nullable = true)\n",
      " |-- prediction: float (nullable = true)\n",
      "\n",
      "None\n"
     ]
    }
   ],
   "source": [
    "model = RestaurantRecommender()\n",
    "model.fit(train_df)\n",
    "\n",
    "predictions_df = model.transform(test_df)\n",
    "\n",
    "print(predictions_df.printSchema())"
   ]
  },
  {
   "cell_type": "code",
   "execution_count": 5,
   "metadata": {
    "collapsed": false
   },
   "outputs": [
    {
     "data": {
      "text/plain": [
       "[Row(business_id=148, user_id=6598, stars=4, prediction=4.388291358947754),\n",
       " Row(business_id=148, user_id=2392, stars=5, prediction=4.09840726852417),\n",
       " Row(business_id=148, user_id=27708, stars=4, prediction=3.3689894676208496),\n",
       " Row(business_id=148, user_id=9914, stars=5, prediction=4.475381851196289),\n",
       " Row(business_id=148, user_id=11894, stars=5, prediction=4.098657131195068),\n",
       " Row(business_id=148, user_id=560495, stars=5, prediction=4.379693984985352),\n",
       " Row(business_id=148, user_id=25673, stars=5, prediction=4.98220682144165),\n",
       " Row(business_id=148, user_id=60203, stars=5, prediction=4.220678329467773),\n",
       " Row(business_id=148, user_id=11609, stars=5, prediction=3.886425495147705),\n",
       " Row(business_id=148, user_id=53578, stars=5, prediction=3.6832668781280518)]"
      ]
     },
     "execution_count": 5,
     "metadata": {},
     "output_type": "execute_result"
    }
   ],
   "source": [
    "predictions_df.head(10)"
   ]
  },
  {
   "cell_type": "code",
   "execution_count": 6,
   "metadata": {
    "collapsed": true
   },
   "outputs": [],
   "source": [
    "g = predictions_df.groupBy('user_id')"
   ]
  },
  {
   "cell_type": "code",
   "execution_count": 14,
   "metadata": {
    "collapsed": false
   },
   "outputs": [
    {
     "data": {
      "text/plain": [
       "[Row(user_id=84018, count=3),\n",
       " Row(user_id=128389, count=1),\n",
       " Row(user_id=280340, count=1),\n",
       " Row(user_id=9900, count=6),\n",
       " Row(user_id=145007, count=2),\n",
       " Row(user_id=357089, count=1),\n",
       " Row(user_id=35820, count=3),\n",
       " Row(user_id=503650, count=1),\n",
       " Row(user_id=5156, count=11),\n",
       " Row(user_id=150383, count=3)]"
      ]
     },
     "execution_count": 14,
     "metadata": {},
     "output_type": "execute_result"
    }
   ],
   "source": [
    "g.count().head(10)"
   ]
  },
  {
   "cell_type": "code",
   "execution_count": null,
   "metadata": {
    "collapsed": true
   },
   "outputs": [],
   "source": []
  }
 ],
 "metadata": {
  "kernelspec": {
   "display_name": "Python 3",
   "language": "python",
   "name": "python3"
  },
  "language_info": {
   "codemirror_mode": {
    "name": "ipython",
    "version": 3
   },
   "file_extension": ".py",
   "mimetype": "text/x-python",
   "name": "python",
   "nbconvert_exporter": "python",
   "pygments_lexer": "ipython3",
   "version": "3.6.1"
  }
 },
 "nbformat": 4,
 "nbformat_minor": 2
}
