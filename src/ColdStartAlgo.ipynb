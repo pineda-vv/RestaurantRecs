{
 "cells": [
  {
   "cell_type": "code",
   "execution_count": 1,
   "metadata": {
    "collapsed": true
   },
   "outputs": [],
   "source": [
    "from recommender import Recommender"
   ]
  },
  {
   "cell_type": "code",
   "execution_count": 2,
   "metadata": {
    "collapsed": false
   },
   "outputs": [
    {
     "name": "stdout",
     "output_type": "stream",
     "text": [
      "root\n",
      " |-- user: integer (nullable = true)\n",
      " |-- item: integer (nullable = true)\n",
      " |-- rating: byte (nullable = true)\n",
      "\n",
      "None\n"
     ]
    }
   ],
   "source": [
    "# Load restaurant reviews\n",
    "reviews_df = spark.read.parquet('../data/ratings_ugt10_igt10')\n",
    "\n",
    "# Randomly split data into train and test datasets\n",
    "train_df, test_df = reviews_df.randomSplit(weights=[0.75, 0.25])\n",
    "\n",
    "print(train_df.printSchema())"
   ]
  },
  {
   "cell_type": "code",
   "execution_count": 10,
   "metadata": {
    "collapsed": false
   },
   "outputs": [
    {
     "name": "stdout",
     "output_type": "stream",
     "text": [
      "root\n",
      " |-- user: integer (nullable = true)\n",
      " |-- item: integer (nullable = true)\n",
      " |-- rating: byte (nullable = true)\n",
      " |-- prediction: double (nullable = true)\n",
      "\n",
      "None\n"
     ]
    }
   ],
   "source": [
    "estimator = Recommender(\n",
    "    useALS=True,\n",
    "    useBias=True,\n",
    "    lambda_1=7,\n",
    "    lambda_2=12,\n",
    "    userCol='user',\n",
    "    itemCol='item',\n",
    "    ratingCol='rating',\n",
    "    rank=100,\n",
    "    regParam=0.7,\n",
    "    maxIter=15,\n",
    "    nonnegative=True\n",
    ")\n",
    "model = estimator.fit(train_df)\n",
    "\n",
    "train_predictions_df = model.transform(train_df)\n",
    "test_predictions_df = model.transform(test_df)\n",
    "\n",
    "print(test_predictions_df.printSchema())"
   ]
  },
  {
   "cell_type": "code",
   "execution_count": 12,
   "metadata": {
    "collapsed": false
   },
   "outputs": [
    {
     "name": "stdout",
     "output_type": "stream",
     "text": [
      "+----+----+------+------------------+------------+--------------+\n",
      "|user|item|rating|        prediction|pred_row_num|actual_row_num|\n",
      "+----+----+------+------------------+------------+--------------+\n",
      "| 100|2397|     5|3.8271621666996065|           1|             1|\n",
      "| 100|1256|     5| 3.775430929157153|           2|             2|\n",
      "| 100|2433|     4|3.7721955593739835|           3|             4|\n",
      "| 100|3560|     5|3.7430339837811477|           4|             3|\n",
      "| 100|4110|     4|3.7029026405044814|           5|             5|\n",
      "| 100| 796|     4| 3.640831027679008|           6|             6|\n",
      "| 100|2505|     4|3.5801973842770565|           7|             7|\n",
      "| 100|3871|     4|3.5722447786664784|           8|             8|\n",
      "| 100|1314|     4| 3.551952102842634|           9|             9|\n",
      "| 100| 603|     4|3.4440679077903127|          10|            10|\n",
      "| 100|3899|     4| 3.386013989135117|          11|            11|\n",
      "| 100|1806|     4| 3.383053083690733|          12|            12|\n",
      "| 100| 770|     4|3.3499526567162405|          13|            13|\n",
      "| 100|2614|     4|3.3409069059673797|          14|            14|\n",
      "| 100| 743|     4|3.3301844910557463|          15|            15|\n",
      "| 100| 430|     4| 3.318806513151669|          16|            16|\n",
      "| 100| 288|     4|3.3100907314317816|          17|            17|\n",
      "| 100|  38|     4|3.3055396323617874|          18|            18|\n",
      "| 100| 515|     3|3.3020026950582473|          19|            41|\n",
      "| 100|  30|     3| 3.281104803009308|          20|            42|\n",
      "| 100| 509|     4| 3.252201032830273|          21|            19|\n",
      "| 100|1895|     4|3.2356529348359366|          22|            20|\n",
      "| 100| 655|     4|3.2317813767052694|          23|            21|\n",
      "| 100|3654|     3| 3.221353291920728|          24|            43|\n",
      "| 100| 769|     4|3.2080804127000064|          25|            22|\n",
      "| 100| 406|     3|3.2069462177467063|          26|            44|\n",
      "| 100|1495|     3|3.2038918525037694|          27|            45|\n",
      "| 100| 774|     4| 3.201957444402991|          28|            23|\n",
      "| 100| 301|     4|3.1993828540241687|          29|            24|\n",
      "| 100| 909|     4|3.1983867877385634|          30|            25|\n",
      "| 100|2711|     4| 3.154645847566176|          31|            26|\n",
      "| 100|1443|     3|3.0825456558868076|          32|            46|\n",
      "| 100|2372|     4|3.0732900268136376|          33|            27|\n",
      "| 100|2298|     4| 3.065596925139104|          34|            28|\n",
      "| 100|1501|     4|3.0282948925730366|          35|            29|\n",
      "| 100| 919|     4|3.0272670826668016|          36|            30|\n",
      "| 100|1492|     3| 3.009843959277127|          37|            47|\n",
      "| 100| 381|     4| 2.987079323781768|          38|            31|\n",
      "| 100| 380|     3|2.9768165786032084|          39|            48|\n",
      "| 100|1028|     3|2.9496258065729464|          40|            49|\n",
      "| 100| 839|     3|2.9087452251063084|          41|            50|\n",
      "| 100| 861|     4|2.8938313360620915|          42|            32|\n",
      "| 100| 636|     4| 2.860508065587103|          43|            33|\n",
      "| 100| 800|     4|2.8521233141115703|          44|            34|\n",
      "| 100|1907|     4|2.7588088268613635|          45|            35|\n",
      "| 100|1107|     4|2.6000183015557647|          46|            36|\n",
      "| 100|1390|     4|2.5754029022966947|          47|            37|\n",
      "| 100|1172|     3|2.5501840935804934|          48|            51|\n",
      "| 100|1812|     4| 2.528891500215896|          49|            38|\n",
      "| 100|1389|     4|2.4867037392123423|          50|            39|\n",
      "| 100|1674|     3|  2.40343160208651|          51|            52|\n",
      "| 100| 143|     4|  2.35218130519144|          52|            40|\n",
      "+----+----+------+------------------+------------+--------------+\n",
      "\n"
     ]
    }
   ],
   "source": [
    "test_predictions_df.registerTempTable('test_predictions_df')\n",
    "df1 = spark.sql(\n",
    "'''\n",
    "select\n",
    "    user,\n",
    "    item,\n",
    "    rating,\n",
    "    prediction,\n",
    "    row_number() over (\n",
    "        partition by user\n",
    "        order by prediction desc\n",
    "    ) as pred_row_num,\n",
    "    row_number() over (\n",
    "        partition by user\n",
    "        order by rating desc\n",
    "    ) as actual_row_num\n",
    "from test_predictions_df\n",
    "where user = 100\n",
    "order by pred_row_num\n",
    "'''\n",
    ")\n",
    "\n",
    "df1.show(100)"
   ]
  },
  {
   "cell_type": "code",
   "execution_count": null,
   "metadata": {
    "collapsed": true
   },
   "outputs": [],
   "source": []
  }
 ],
 "metadata": {
  "kernelspec": {
   "display_name": "Python 3",
   "language": "python",
   "name": "python3"
  },
  "language_info": {
   "codemirror_mode": {
    "name": "ipython",
    "version": 3
   },
   "file_extension": ".py",
   "mimetype": "text/x-python",
   "name": "python",
   "nbconvert_exporter": "python",
   "pygments_lexer": "ipython3",
   "version": "3.6.1"
  }
 },
 "nbformat": 4,
 "nbformat_minor": 2
}
