{
 "cells": [
  {
   "cell_type": "code",
   "execution_count": 1,
   "metadata": {
    "collapsed": true
   },
   "outputs": [],
   "source": [
    "import pandas as pd\n",
    "import numpy as np\n",
    "from pyspark.sql.functions import col\n",
    "from pyspark.sql.types import IntegerType, ByteType\n",
    "from pyspark.ml.feature import StringIndexer"
   ]
  },
  {
   "cell_type": "code",
   "execution_count": 2,
   "metadata": {},
   "outputs": [],
   "source": [
    "review_df = (\n",
    "    spark.read.json(\n",
    "        path='../data/yelp_dataset_challenge_round9/yelp_academic_dataset_review.json'\n",
    "    )\n",
    "    .select(\n",
    "        'user_id',\n",
    "        'business_id',\n",
    "        col('stars').cast(ByteType()).alias('stars')\n",
    "    )\n",
    ")"
   ]
  },
  {
   "cell_type": "code",
   "execution_count": 3,
   "metadata": {},
   "outputs": [
    {
     "name": "stdout",
     "output_type": "stream",
     "text": [
      "root\n",
      " |-- user_id: string (nullable = true)\n",
      " |-- business_id: string (nullable = true)\n",
      " |-- stars: byte (nullable = true)\n",
      "\n"
     ]
    }
   ],
   "source": [
    "review_df.printSchema()"
   ]
  },
  {
   "cell_type": "code",
   "execution_count": 4,
   "metadata": {
    "collapsed": true
   },
   "outputs": [],
   "source": [
    "restaurant_ids_df = spark.read.json(\n",
    "    path='../data/restaurants'\n",
    ").select('business_id')"
   ]
  },
  {
   "cell_type": "code",
   "execution_count": 5,
   "metadata": {
    "collapsed": true
   },
   "outputs": [],
   "source": [
    "restaurant_review_df = review_df.join(\n",
    "    other=restaurant_ids_df,\n",
    "    on='business_id',\n",
    "    how='inner'\n",
    ")"
   ]
  },
  {
   "cell_type": "code",
   "execution_count": 6,
   "metadata": {},
   "outputs": [
    {
     "name": "stdout",
     "output_type": "stream",
     "text": [
      "root\n",
      " |-- business_id: string (nullable = true)\n",
      " |-- user_id: string (nullable = true)\n",
      " |-- stars: byte (nullable = true)\n",
      "\n"
     ]
    }
   ],
   "source": [
    "restaurant_review_df.printSchema()"
   ]
  },
  {
   "cell_type": "code",
   "execution_count": 7,
   "metadata": {
    "collapsed": true
   },
   "outputs": [],
   "source": [
    "user_idx_mdl = (\n",
    "    StringIndexer(inputCol='user_id', outputCol='user_idx')\n",
    "    .fit(restaurant_review_df)\n",
    ")\n",
    "\n",
    "business_idx_mdl = (\n",
    "    StringIndexer(inputCol='business_id', outputCol='business_idx')\n",
    "    .fit(restaurant_review_df)\n",
    ")"
   ]
  },
  {
   "cell_type": "code",
   "execution_count": 8,
   "metadata": {
    "collapsed": true
   },
   "outputs": [],
   "source": [
    "# save reviews in business_id(IntegerType), user_id(IntegerType),\n",
    "# stars(ByteType) format\n",
    "# max business_id = 48484, max user_id = 721778\n",
    "\n",
    "restaurant_review_df2 = (\n",
    "    business_idx_mdl.transform(\n",
    "        user_idx_mdl.transform(\n",
    "            restaurant_review_df\n",
    "        )\n",
    "    )\n",
    "    .select(\n",
    "        col('business_idx').cast(IntegerType()).alias('business_id'),\n",
    "        col('user_idx').cast(IntegerType()).alias('user_id'),\n",
    "        'stars'\n",
    "    )\n",
    ")"
   ]
  },
  {
   "cell_type": "code",
   "execution_count": 9,
   "metadata": {},
   "outputs": [
    {
     "name": "stdout",
     "output_type": "stream",
     "text": [
      "root\n",
      " |-- business_id: integer (nullable = true)\n",
      " |-- user_id: integer (nullable = true)\n",
      " |-- stars: byte (nullable = true)\n",
      "\n"
     ]
    }
   ],
   "source": [
    "restaurant_review_df2.printSchema()"
   ]
  },
  {
   "cell_type": "code",
   "execution_count": 14,
   "metadata": {},
   "outputs": [],
   "source": [
    "restaurant_review_df2.write.parquet(\n",
    "    path='../data/reviews',\n",
    "    mode='overwrite',\n",
    "    compression='gzip'\n",
    ")"
   ]
  },
  {
   "cell_type": "code",
   "execution_count": 11,
   "metadata": {},
   "outputs": [],
   "source": [
    "# Number of all reviews\n",
    "# review_df.count()\n",
    "# 4153150"
   ]
  },
  {
   "cell_type": "code",
   "execution_count": 12,
   "metadata": {
    "collapsed": true
   },
   "outputs": [],
   "source": [
    "# Number of restaurant reviews\n",
    "# restaurant_review_df.count()\n",
    "# 2577298"
   ]
  },
  {
   "cell_type": "code",
   "execution_count": 13,
   "metadata": {
    "collapsed": true
   },
   "outputs": [],
   "source": [
    "# Number of unique users that reviewed at least one restaurant\n",
    "# restaurant_review_df.groupBy('user_id').count().count()\n",
    "# 721779"
   ]
  },
  {
   "cell_type": "code",
   "execution_count": null,
   "metadata": {
    "collapsed": true
   },
   "outputs": [],
   "source": []
  },
  {
   "cell_type": "code",
   "execution_count": null,
   "metadata": {},
   "outputs": [],
   "source": []
  },
  {
   "cell_type": "code",
   "execution_count": null,
   "metadata": {},
   "outputs": [],
   "source": []
  },
  {
   "cell_type": "code",
   "execution_count": null,
   "metadata": {
    "collapsed": true
   },
   "outputs": [],
   "source": []
  },
  {
   "cell_type": "code",
   "execution_count": null,
   "metadata": {
    "collapsed": true
   },
   "outputs": [],
   "source": []
  }
 ],
 "metadata": {
  "kernelspec": {
   "display_name": "Python [conda env:py36]",
   "language": "python",
   "name": "conda-env-py36-py"
  },
  "language_info": {
   "codemirror_mode": {
    "name": "ipython",
    "version": 3
   },
   "file_extension": ".py",
   "mimetype": "text/x-python",
   "name": "python",
   "nbconvert_exporter": "python",
   "pygments_lexer": "ipython3",
   "version": "3.6.1"
  }
 },
 "nbformat": 4,
 "nbformat_minor": 2
}
