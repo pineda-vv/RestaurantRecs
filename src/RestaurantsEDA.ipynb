{
 "cells": [
  {
   "cell_type": "code",
   "execution_count": 4,
   "metadata": {
    "collapsed": true
   },
   "outputs": [],
   "source": [
    "import pyspark.sql.functions as F"
   ]
  },
  {
   "cell_type": "code",
   "execution_count": 3,
   "metadata": {
    "collapsed": false
   },
   "outputs": [],
   "source": [
    "restaurants_df = spark.read.json('../data/restaurants')"
   ]
  },
  {
   "cell_type": "code",
   "execution_count": 10,
   "metadata": {
    "collapsed": false
   },
   "outputs": [
    {
     "data": {
      "text/plain": [
       "[Row(address='5040 W Spring Mountain Rd, Ste 3', attributes=['Alcohol: beer_and_wine', \"Ambience: {'romantic': False, 'intimate': False, 'classy': False, 'hipster': False, 'divey': False, 'touristy': False, 'trendy': True, 'upscale': False, 'casual': False}\", \"BestNights: {'monday': False, 'tuesday': True, 'friday': True, 'wednesday': False, 'thursday': False, 'sunday': False, 'saturday': True}\", 'BikeParking: True', 'BusinessAcceptsCreditCards: True', \"BusinessParking: {'garage': False, 'street': False, 'validated': False, 'lot': True, 'valet': False}\", 'Caters: False', 'CoatCheck: False', 'GoodForDancing: False', \"GoodForMeal: {'dessert': True, 'latenight': False, 'lunch': False, 'dinner': False, 'breakfast': False, 'brunch': False}\", 'HappyHour: False', 'HasTV: False', \"Music: {'dj': False, 'background_music': False, 'no_music': False, 'karaoke': False, 'live': False, 'video': False, 'jukebox': False}\", 'NoiseLevel: average', 'OutdoorSeating: False', 'RestaurantsDelivery: False', 'RestaurantsGoodForGroups: False', 'RestaurantsPriceRange2: 2', 'RestaurantsReservations: False', 'RestaurantsTakeOut: False', 'Smoking: no', 'WheelchairAccessible: True'], business_id='umXvdus9LbC6oxtLdXelFQ', categories=['Desserts', 'American (Traditional)', 'Bars', 'Food', 'Nightlife', 'Wine Bars', 'Restaurants'], city='Las Vegas', hours=['Monday 18:0-0:0', 'Tuesday 18:0-0:0', 'Wednesday 18:0-3:0', 'Thursday 18:0-0:0', 'Friday 18:0-0:0', 'Saturday 12:0-0:0', 'Sunday 12:0-21:0'], is_open=1, latitude=36.1264269463, longitude=-115.209914042, name='Sweets Raku', neighborhood='Chinatown', postal_code='89146', review_count=627, stars=4.5, state='NV', type='business')]"
      ]
     },
     "execution_count": 10,
     "metadata": {},
     "output_type": "execute_result"
    }
   ],
   "source": [
    "restaurants_df.filter(restaurants_df['name'] == 'Sweets Raku').collect()"
   ]
  },
  {
   "cell_type": "code",
   "execution_count": null,
   "metadata": {
    "collapsed": true
   },
   "outputs": [],
   "source": []
  }
 ],
 "metadata": {
  "kernelspec": {
   "display_name": "Python [conda env:py36]",
   "language": "python",
   "name": "conda-env-py36-py"
  },
  "language_info": {
   "codemirror_mode": {
    "name": "ipython",
    "version": 3
   },
   "file_extension": ".py",
   "mimetype": "text/x-python",
   "name": "python",
   "nbconvert_exporter": "python",
   "pygments_lexer": "ipython3",
   "version": "3.6.1"
  }
 },
 "nbformat": 4,
 "nbformat_minor": 2
}
